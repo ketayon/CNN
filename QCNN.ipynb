{
 "cells": [
  {
   "cell_type": "code",
   "execution_count": 3,
   "metadata": {},
   "outputs": [],
   "source": [
    "# %pip install piqture"
   ]
  },
  {
   "cell_type": "code",
   "execution_count": 1,
   "metadata": {},
   "outputs": [],
   "source": [
    "import torch\n",
    "import torch.nn as nn\n",
    "import torch.optim as optim\n",
    "from torch.utils.data import DataLoader\n",
    "import matplotlib.pyplot as plt\n",
    "from torchvision import transforms\n",
    "\n",
    "from piqture.data_loader.mnist_data_loader import load_mnist_dataset\n",
    "from piqture.transforms import MinMaxNormalization"
   ]
  },
  {
   "cell_type": "code",
   "execution_count": 6,
   "metadata": {},
   "outputs": [],
   "source": [
    "train_dataset, test_dataset = load_mnist_dataset()"
   ]
  },
  {
   "cell_type": "markdown",
   "metadata": {},
   "source": [
    "#### Define the normalization transform"
   ]
  },
  {
   "cell_type": "code",
   "execution_count": 7,
   "metadata": {},
   "outputs": [],
   "source": [
    "min_max_normalization = MinMaxNormalization(normalize_min=0.0, normalize_max=1.0)"
   ]
  },
  {
   "cell_type": "markdown",
   "metadata": {},
   "source": [
    "#### Define the full transformation pipeline for the dataset - Convert PIL image to Tensor and Apply MinMaxNormalization"
   ]
  },
  {
   "cell_type": "code",
   "execution_count": 8,
   "metadata": {},
   "outputs": [],
   "source": [
    "transform = transforms.Compose([\n",
    "    transforms.ToTensor(),\n",
    "    lambda x: min_max_normalization(x)\n",
    "])"
   ]
  },
  {
   "cell_type": "markdown",
   "metadata": {},
   "source": [
    "#### Apply transformation to dataset"
   ]
  },
  {
   "cell_type": "code",
   "execution_count": 9,
   "metadata": {},
   "outputs": [],
   "source": [
    "train_dataset = [(min_max_normalization(image), label) for image, label in train_dataset]\n",
    "test_dataset = [(min_max_normalization(image), label) for image, label in test_dataset]"
   ]
  },
  {
   "cell_type": "markdown",
   "metadata": {},
   "source": [
    "  #### Increase batch size to 128"
   ]
  },
  {
   "cell_type": "code",
   "execution_count": 10,
   "metadata": {},
   "outputs": [],
   "source": [
    "batch_size = 128"
   ]
  },
  {
   "cell_type": "markdown",
   "metadata": {},
   "source": [
    "#### Create DataLoader instances with the new batch size"
   ]
  },
  {
   "cell_type": "code",
   "execution_count": 11,
   "metadata": {},
   "outputs": [],
   "source": [
    "\n",
    "train_loader = DataLoader(train_dataset, batch_size=batch_size, shuffle=True)\n",
    "test_loader = DataLoader(test_dataset, batch_size=batch_size, shuffle=False)"
   ]
  },
  {
   "cell_type": "markdown",
   "metadata": {},
   "source": [
    "#### Define model"
   ]
  },
  {
   "cell_type": "code",
   "execution_count": 12,
   "metadata": {},
   "outputs": [],
   "source": [
    "class QuantumCNN(nn.Module):\n",
    "    def __init__(self, input_size, num_classes=10):\n",
    "        super(QuantumCNN, self).__init__()\n",
    "        self.input_size = input_size\n",
    "        self.fc1 = nn.Linear(input_size, 128) \n",
    "        self.fc2 = nn.Linear(128, num_classes)\n",
    "\n",
    "    def forward(self, x):\n",
    "        x = x.view(x.size(0), -1)\n",
    "        x = self.fc1(x)\n",
    "        x = self.fc2(x)\n",
    "        return x"
   ]
  },
  {
   "cell_type": "markdown",
   "metadata": {},
   "source": [
    "#### Initialize model, criterion, and optimizer"
   ]
  },
  {
   "cell_type": "code",
   "execution_count": 13,
   "metadata": {},
   "outputs": [],
   "source": [
    "input_size = 28 * 28\n",
    "num_classes = 10\n",
    "\n",
    "model = QuantumCNN(input_size=input_size, num_classes=num_classes)\n",
    "criterion = nn.CrossEntropyLoss()\n",
    "optimizer = optim.Adam(model.parameters(), lr=0.001)"
   ]
  },
  {
   "cell_type": "markdown",
   "metadata": {},
   "source": [
    "#### Training loop"
   ]
  },
  {
   "cell_type": "code",
   "execution_count": 14,
   "metadata": {},
   "outputs": [
    {
     "name": "stdout",
     "output_type": "stream",
     "text": [
      "Epoch 1/30, Loss: 0.4184, Accuracy: 88.85%\n",
      "Epoch 2/30, Loss: 0.2892, Accuracy: 91.83%\n",
      "Epoch 3/30, Loss: 0.2768, Accuracy: 92.22%\n",
      "Epoch 4/30, Loss: 0.2698, Accuracy: 92.48%\n",
      "Epoch 5/30, Loss: 0.2649, Accuracy: 92.66%\n",
      "Epoch 6/30, Loss: 0.2624, Accuracy: 92.67%\n",
      "Epoch 7/30, Loss: 0.2599, Accuracy: 92.78%\n",
      "Epoch 8/30, Loss: 0.2571, Accuracy: 92.92%\n",
      "Epoch 9/30, Loss: 0.2557, Accuracy: 92.93%\n",
      "Epoch 10/30, Loss: 0.2536, Accuracy: 92.89%\n",
      "Epoch 11/30, Loss: 0.2521, Accuracy: 93.02%\n",
      "Epoch 12/30, Loss: 0.2514, Accuracy: 92.97%\n",
      "Epoch 13/30, Loss: 0.2508, Accuracy: 93.06%\n",
      "Epoch 14/30, Loss: 0.2492, Accuracy: 93.08%\n",
      "Epoch 15/30, Loss: 0.2487, Accuracy: 93.05%\n",
      "Epoch 16/30, Loss: 0.2477, Accuracy: 93.06%\n",
      "Epoch 17/30, Loss: 0.2469, Accuracy: 93.06%\n",
      "Epoch 18/30, Loss: 0.2462, Accuracy: 93.08%\n",
      "Epoch 19/30, Loss: 0.2458, Accuracy: 93.08%\n",
      "Epoch 20/30, Loss: 0.2459, Accuracy: 93.14%\n",
      "Epoch 21/30, Loss: 0.2437, Accuracy: 93.15%\n",
      "Epoch 22/30, Loss: 0.2448, Accuracy: 93.19%\n",
      "Epoch 23/30, Loss: 0.2438, Accuracy: 93.18%\n",
      "Epoch 24/30, Loss: 0.2425, Accuracy: 93.19%\n",
      "Epoch 25/30, Loss: 0.2424, Accuracy: 93.18%\n",
      "Epoch 26/30, Loss: 0.2417, Accuracy: 93.33%\n",
      "Epoch 27/30, Loss: 0.2405, Accuracy: 93.31%\n",
      "Epoch 28/30, Loss: 0.2410, Accuracy: 93.28%\n",
      "Epoch 29/30, Loss: 0.2400, Accuracy: 93.27%\n",
      "Epoch 30/30, Loss: 0.2396, Accuracy: 93.31%\n"
     ]
    }
   ],
   "source": [
    "batch_size = 64\n",
    "num_epochs = 30\n",
    "\n",
    "losses = []\n",
    "accuracies = []\n",
    "\n",
    "for epoch in range(num_epochs):\n",
    "    model.train()\n",
    "    running_loss = 0.0\n",
    "    correct_predictions = 0\n",
    "    total_samples = 0\n",
    "\n",
    "    for images, labels in train_loader:\n",
    "        optimizer.zero_grad()\n",
    "        outputs = model(images)\n",
    "        loss = criterion(outputs, labels)\n",
    "        loss.backward()\n",
    "        optimizer.step()\n",
    "        \n",
    "        running_loss += loss.item() * images.size(0)\n",
    "        \n",
    "        _, predicted = torch.max(outputs, 1)\n",
    "        correct_predictions += (predicted == labels).sum().item()\n",
    "        total_samples += labels.size(0)\n",
    "    \n",
    "    epoch_loss = running_loss / len(train_loader.dataset)\n",
    "    accuracy = correct_predictions / total_samples * 100\n",
    "\n",
    "    losses.append(epoch_loss)\n",
    "    accuracies.append(accuracy)\n",
    "\n",
    "    print(f'Epoch {epoch + 1}/{num_epochs}, Loss: {epoch_loss:.4f}, Accuracy: {accuracy:.2f}%')"
   ]
  },
  {
   "cell_type": "markdown",
   "metadata": {},
   "source": [
    "#### Plotting Loss & Accuracy"
   ]
  },
  {
   "cell_type": "code",
   "execution_count": 15,
   "metadata": {},
   "outputs": [
    {
     "data": {
      "image/png": "[encoded data removed]",
      "text/plain": [
       "<Figure size 1200x500 with 2 Axes>"
      ]
     },
     "metadata": {},
     "output_type": "display_data"
    }
   ],
   "source": [
    "\n",
    "plt.figure(figsize=(12, 5))\n",
    "\n",
    "plt.subplot(1, 2, 1)\n",
    "plt.plot(range(1, num_epochs + 1), losses, marker='o', linestyle='-', color='b')\n",
    "plt.title('Training Loss')\n",
    "plt.xlabel('Epoch')\n",
    "plt.ylabel('Loss')\n",
    "\n",
    "plt.subplot(1, 2, 2)\n",
    "plt.plot(range(1, num_epochs + 1), accuracies, marker='o', linestyle='-', color='g')\n",
    "plt.title('Training Accuracy')\n",
    "plt.xlabel('Epoch')\n",
    "plt.ylabel('Accuracy')\n",
    "\n",
    "plt.tight_layout()\n",
    "plt.show()"
   ]
  }
 ],
 "metadata": {
  "kernelspec": {
   "display_name": "piq",
   "language": "python",
   "name": "python3"
  },
  "language_info": {
   "codemirror_mode": {
    "name": "ipython",
    "version": 3
   },
   "file_extension": ".py",
   "mimetype": "text/x-python",
   "name": "python",
   "nbconvert_exporter": "python",
   "pygments_lexer": "ipython3",
   "version": "3.10.14"
  }
 },
 "nbformat": 4,
 "nbformat_minor": 2
}
